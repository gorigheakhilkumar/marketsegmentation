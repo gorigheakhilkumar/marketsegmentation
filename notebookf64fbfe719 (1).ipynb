{
  "metadata": {
    "kernelspec": {
      "language": "python",
      "display_name": "Python 3",
      "name": "python3"
    },
    "language_info": {
      "pygments_lexer": "ipython3",
      "nbconvert_exporter": "python",
      "version": "3.6.4",
      "file_extension": ".py",
      "codemirror_mode": {
        "name": "ipython",
        "version": 3
      },
      "name": "python",
      "mimetype": "text/x-python"
    },
    "colab": {
      "provenance": []
    }
  },
  "nbformat_minor": 0,
  "nbformat": 4,
  "cells": [
    {
      "cell_type": "code",
      "source": [
        "import pandas as pd\n",
        "import numpy as np\n",
        "import seaborn as sns\n",
        "import matplotlib.pyplot as plt\n",
        "!pip install bioinfokit"
      ],
      "metadata": {
        "_uuid": "8f2839f25d086af736a60e9eeb907d3b93b6e0e5",
        "_cell_guid": "b1076dfc-b9ad-4769-8c92-a6c4dae69d19",
        "execution": {
          "iopub.status.busy": "2022-01-18T06:47:51.634877Z",
          "iopub.execute_input": "2022-01-18T06:47:51.635847Z",
          "iopub.status.idle": "2022-01-18T06:48:00.65219Z",
          "shell.execute_reply.started": "2022-01-18T06:47:51.635791Z",
          "shell.execute_reply": "2022-01-18T06:48:00.651001Z"
        },
        "trusted": true,
        "id": "OlbC-22O2et7"
      },
      "execution_count": null,
      "outputs": []
    },
    {
      "cell_type": "code",
      "source": [
        "#Loading the dataset\n",
        "df = pd.read_csv(\"../input/mcdonalds/mcdonalds.csv\")\n",
        "df.shape\n",
        "df.head()\n",
        "df.dtypes\n",
        "# 11 variable(cols) has yes or no values.\n",
        "\n",
        "# checking for null data --> No null data\n",
        "df.info()\n",
        "df.isnull().sum()"
      ],
      "metadata": {
        "execution": {
          "iopub.status.busy": "2022-01-18T06:48:00.655177Z",
          "iopub.execute_input": "2022-01-18T06:48:00.655442Z",
          "iopub.status.idle": "2022-01-18T06:48:00.69615Z",
          "shell.execute_reply.started": "2022-01-18T06:48:00.655408Z",
          "shell.execute_reply": "2022-01-18T06:48:00.695532Z"
        },
        "trusted": true,
        "id": "GVELHoPo2et9"
      },
      "execution_count": null,
      "outputs": []
    },
    {
      "cell_type": "code",
      "source": [
        "#Checking for the count of below variables\n",
        "df['Gender'].value_counts()\n",
        "df['VisitFrequency'].value_counts()\n",
        "df['Like'].value_counts()"
      ],
      "metadata": {
        "execution": {
          "iopub.status.busy": "2022-01-18T06:48:00.697592Z",
          "iopub.execute_input": "2022-01-18T06:48:00.698087Z",
          "iopub.status.idle": "2022-01-18T06:48:00.708785Z",
          "shell.execute_reply.started": "2022-01-18T06:48:00.698024Z",
          "shell.execute_reply": "2022-01-18T06:48:00.707986Z"
        },
        "trusted": true,
        "id": "iPt1ypo02et9"
      },
      "execution_count": null,
      "outputs": []
    },
    {
      "cell_type": "markdown",
      "source": [
        "***EXPLORING DATA***"
      ],
      "metadata": {
        "id": "C86VdnSc2et-"
      }
    },
    {
      "cell_type": "code",
      "source": [
        "\n",
        "#EXPLORING DATA\n",
        "\n",
        "#Customer segmentation - based on socio-demographs (Age & Gender)\n",
        "\n",
        "#Gender\n",
        "labels = ['Female', 'Male']\n",
        "size = df['Gender'].value_counts()\n",
        "colors = ['pink', 'cyan']\n",
        "explode = [0, 0.1]\n",
        "plt.rcParams['figure.figsize'] = (7, 7)\n",
        "plt.pie(size, colors = colors, explode = explode, labels = labels, shadow = True, autopct = '%.2f%%')\n",
        "plt.title('Gender', fontsize = 20)\n",
        "plt.axis('off')\n",
        "plt.legend()\n",
        "plt.show()\n",
        "#we infer that there are more female customers than male.\n",
        "\n",
        "#Age\n",
        "plt.rcParams['figure.figsize'] = (25, 8)\n",
        "f = sns.countplot(x=df['Age'],palette = 'hsv')\n",
        "f.bar_label(f.containers[0])\n",
        "plt.title('Age distribution of customers')\n",
        "plt.show()\n",
        "# Mcdonalds recieve more customers of age between 50-60 and 35-40.\n"
      ],
      "metadata": {
        "execution": {
          "iopub.status.busy": "2022-01-18T06:48:00.711475Z",
          "iopub.execute_input": "2022-01-18T06:48:00.711783Z",
          "iopub.status.idle": "2022-01-18T06:48:02.625764Z",
          "shell.execute_reply.started": "2022-01-18T06:48:00.711744Z",
          "shell.execute_reply": "2022-01-18T06:48:02.624732Z"
        },
        "trusted": true,
        "id": "TpMaYt022et_"
      },
      "execution_count": null,
      "outputs": []
    },
    {
      "cell_type": "code",
      "source": [
        "#Customer segmentation - based on pyschographic segmentation\n",
        "\n",
        "#For convinence renaming the category\n",
        "df['Like']= df['Like'].replace({'I hate it!-5': '-5','I love it!+5':'+5'})\n",
        "#Like \n",
        "sns.catplot(x=\"Like\", y=\"Age\",data=df, \n",
        "            orient=\"v\", height=5, aspect=2, palette=\"Set2\",kind=\"swarm\")\n",
        "plt.title('Likelyness of McDonald w.r.t Age')\n",
        "plt.show()\n",
        "\n",
        "\n"
      ],
      "metadata": {
        "execution": {
          "iopub.status.busy": "2022-01-18T06:48:02.626918Z",
          "iopub.execute_input": "2022-01-18T06:48:02.627277Z",
          "iopub.status.idle": "2022-01-18T06:48:03.393243Z",
          "shell.execute_reply.started": "2022-01-18T06:48:02.62724Z",
          "shell.execute_reply": "2022-01-18T06:48:03.392307Z"
        },
        "trusted": true,
        "id": "vtcqIitu2euA"
      },
      "execution_count": null,
      "outputs": []
    },
    {
      "cell_type": "code",
      "source": [
        "#Label encoding for categorical - Converting 11 cols with yes/no\n",
        "\n",
        "from sklearn.preprocessing import LabelEncoder\n",
        "def labelling(x):\n",
        "    df[x] = LabelEncoder().fit_transform(df[x])\n",
        "    return df\n",
        "\n",
        "cat = ['yummy', 'convenient', 'spicy', 'fattening', 'greasy', 'fast', 'cheap',\n",
        "       'tasty', 'expensive', 'healthy', 'disgusting']\n",
        "\n",
        "for i in cat:\n",
        "    labelling(i)\n",
        "df"
      ],
      "metadata": {
        "execution": {
          "iopub.status.busy": "2022-01-18T06:48:03.394515Z",
          "iopub.execute_input": "2022-01-18T06:48:03.394743Z",
          "iopub.status.idle": "2022-01-18T06:48:03.432884Z",
          "shell.execute_reply.started": "2022-01-18T06:48:03.394715Z",
          "shell.execute_reply": "2022-01-18T06:48:03.432314Z"
        },
        "trusted": true,
        "id": "6ZTTr3Ll2euB"
      },
      "execution_count": null,
      "outputs": []
    },
    {
      "cell_type": "code",
      "source": [
        "#Histogram of the each attributes\n",
        "plt.rcParams['figure.figsize'] = (12,14)\n",
        "df.hist()\n",
        "plt.show()"
      ],
      "metadata": {
        "execution": {
          "iopub.status.busy": "2022-01-18T06:48:03.433894Z",
          "iopub.execute_input": "2022-01-18T06:48:03.434559Z",
          "iopub.status.idle": "2022-01-18T06:48:05.446326Z",
          "shell.execute_reply.started": "2022-01-18T06:48:03.434522Z",
          "shell.execute_reply": "2022-01-18T06:48:05.445516Z"
        },
        "trusted": true,
        "id": "dmKUuqyJ2euB"
      },
      "execution_count": null,
      "outputs": []
    },
    {
      "cell_type": "code",
      "source": [
        "#Considering only first 11 attributes\n",
        "df_eleven = df.loc[:,cat]\n",
        "df_eleven"
      ],
      "metadata": {
        "execution": {
          "iopub.status.busy": "2022-01-18T06:48:05.447784Z",
          "iopub.execute_input": "2022-01-18T06:48:05.448124Z",
          "iopub.status.idle": "2022-01-18T06:48:05.465792Z",
          "shell.execute_reply.started": "2022-01-18T06:48:05.44808Z",
          "shell.execute_reply": "2022-01-18T06:48:05.464886Z"
        },
        "trusted": true,
        "id": "1kvrVTwN2euB"
      },
      "execution_count": null,
      "outputs": []
    },
    {
      "cell_type": "code",
      "source": [
        "#Considering only the 11 cols and converting it into array\n",
        "x = df.loc[:,cat].values\n",
        "x"
      ],
      "metadata": {
        "execution": {
          "iopub.status.busy": "2022-01-18T06:48:05.467018Z",
          "iopub.execute_input": "2022-01-18T06:48:05.467687Z",
          "iopub.status.idle": "2022-01-18T06:48:05.481435Z",
          "shell.execute_reply.started": "2022-01-18T06:48:05.467649Z",
          "shell.execute_reply": "2022-01-18T06:48:05.480472Z"
        },
        "trusted": true,
        "id": "UXDrYZHX2euC"
      },
      "execution_count": null,
      "outputs": []
    },
    {
      "cell_type": "code",
      "source": [
        "#Principal component analysis\n",
        "\n",
        "from sklearn.decomposition import PCA\n",
        "from sklearn import preprocessing\n",
        "\n",
        "pca_data = preprocessing.scale(x)\n",
        "\n",
        "pca = PCA(n_components=11)\n",
        "pc = pca.fit_transform(x)\n",
        "names = ['pc1','pc2','pc3','pc4','pc5','pc6','pc7','pc8','pc9','pc10','pc11']\n",
        "pf = pd.DataFrame(data = pc, columns = names)\n",
        "pf\n"
      ],
      "metadata": {
        "execution": {
          "iopub.status.busy": "2022-01-18T06:48:05.485719Z",
          "iopub.execute_input": "2022-01-18T06:48:05.485985Z",
          "iopub.status.idle": "2022-01-18T06:48:05.51577Z",
          "shell.execute_reply.started": "2022-01-18T06:48:05.485954Z",
          "shell.execute_reply": "2022-01-18T06:48:05.51513Z"
        },
        "trusted": true,
        "id": "jHZ8nyJr2euC"
      },
      "execution_count": null,
      "outputs": []
    },
    {
      "cell_type": "code",
      "source": [
        "#Proportion of Variance (from PC1 to PC11)\n",
        "pca.explained_variance_ratio_"
      ],
      "metadata": {
        "execution": {
          "iopub.status.busy": "2022-01-18T06:48:05.517389Z",
          "iopub.execute_input": "2022-01-18T06:48:05.517698Z",
          "iopub.status.idle": "2022-01-18T06:48:05.524579Z",
          "shell.execute_reply.started": "2022-01-18T06:48:05.517656Z",
          "shell.execute_reply": "2022-01-18T06:48:05.523794Z"
        },
        "trusted": true,
        "id": "QbnUtLrp2euC"
      },
      "execution_count": null,
      "outputs": []
    },
    {
      "cell_type": "code",
      "source": [
        "np.cumsum(pca.explained_variance_ratio_)"
      ],
      "metadata": {
        "execution": {
          "iopub.status.busy": "2022-01-18T06:48:05.526114Z",
          "iopub.execute_input": "2022-01-18T06:48:05.527018Z",
          "iopub.status.idle": "2022-01-18T06:48:05.538674Z",
          "shell.execute_reply.started": "2022-01-18T06:48:05.52697Z",
          "shell.execute_reply": "2022-01-18T06:48:05.537927Z"
        },
        "trusted": true,
        "id": "bGa3GBI82euC"
      },
      "execution_count": null,
      "outputs": []
    },
    {
      "cell_type": "code",
      "source": [
        "# correlation coefficient between original variables and the component\n",
        "\n",
        "loadings = pca.components_\n",
        "num_pc = pca.n_features_\n",
        "pc_list = [\"PC\"+str(i) for i in list(range(1, num_pc+1))]\n",
        "loadings_df = pd.DataFrame.from_dict(dict(zip(pc_list, loadings)))\n",
        "loadings_df['variable'] = df_eleven.columns.values\n",
        "loadings_df = loadings_df.set_index('variable')\n",
        "loadings_df"
      ],
      "metadata": {
        "execution": {
          "iopub.status.busy": "2022-01-18T06:48:05.540382Z",
          "iopub.execute_input": "2022-01-18T06:48:05.540881Z",
          "iopub.status.idle": "2022-01-18T06:48:05.571395Z",
          "shell.execute_reply.started": "2022-01-18T06:48:05.540827Z",
          "shell.execute_reply": "2022-01-18T06:48:05.570557Z"
        },
        "trusted": true,
        "id": "68IHrosB2euD"
      },
      "execution_count": null,
      "outputs": []
    },
    {
      "cell_type": "code",
      "source": [
        "#Correlation matrix plot for loadings \n",
        "plt.rcParams['figure.figsize'] = (20,15)\n",
        "ax = sns.heatmap(loadings_df, annot=True, cmap='Spectral')\n",
        "plt.show()"
      ],
      "metadata": {
        "execution": {
          "iopub.status.busy": "2022-01-18T06:48:05.57275Z",
          "iopub.execute_input": "2022-01-18T06:48:05.573255Z",
          "iopub.status.idle": "2022-01-18T06:48:06.413152Z",
          "shell.execute_reply.started": "2022-01-18T06:48:05.573206Z",
          "shell.execute_reply": "2022-01-18T06:48:06.412314Z"
        },
        "trusted": true,
        "id": "El5TsNwu2euD"
      },
      "execution_count": null,
      "outputs": []
    },
    {
      "cell_type": "code",
      "source": [
        "#Scree plot (Elbow test)- PCA\n",
        "from bioinfokit.visuz import cluster\n",
        "cluster.screeplot(obj=[pc_list, pca.explained_variance_ratio_],show=True,dim=(10,5))"
      ],
      "metadata": {
        "execution": {
          "iopub.status.busy": "2022-01-18T06:48:06.41478Z",
          "iopub.execute_input": "2022-01-18T06:48:06.415236Z",
          "iopub.status.idle": "2022-01-18T06:48:06.632801Z",
          "shell.execute_reply.started": "2022-01-18T06:48:06.415197Z",
          "shell.execute_reply": "2022-01-18T06:48:06.631931Z"
        },
        "trusted": true,
        "id": "Ff3dfCMB2euD"
      },
      "execution_count": null,
      "outputs": []
    },
    {
      "cell_type": "code",
      "source": [
        "# get PC scores\n",
        "pca_scores = PCA().fit_transform(x)\n",
        "\n",
        "# get 2D biplot\n",
        "cluster.biplot(cscore=pca_scores, loadings=loadings, labels=df.columns.values, var1=round(pca.explained_variance_ratio_[0]*100, 2),\n",
        "    var2=round(pca.explained_variance_ratio_[1]*100, 2),show=True,dim=(10,5))"
      ],
      "metadata": {
        "execution": {
          "iopub.status.busy": "2022-01-18T06:48:06.634326Z",
          "iopub.execute_input": "2022-01-18T06:48:06.634805Z",
          "iopub.status.idle": "2022-01-18T06:48:06.917739Z",
          "shell.execute_reply.started": "2022-01-18T06:48:06.634761Z",
          "shell.execute_reply": "2022-01-18T06:48:06.916897Z"
        },
        "trusted": true,
        "id": "4jSvmJ5h2euD"
      },
      "execution_count": null,
      "outputs": []
    },
    {
      "cell_type": "markdown",
      "source": [
        "**EXTRACTING SEGMENTS**"
      ],
      "metadata": {
        "id": "m83YzmKl2euD"
      }
    },
    {
      "cell_type": "code",
      "source": [
        "#Extracting segments\n",
        "\n",
        "#Using k-means clustering analysis\n",
        "from sklearn.cluster import KMeans\n",
        "from yellowbrick.cluster import KElbowVisualizer\n",
        "model = KMeans()\n",
        "visualizer = KElbowVisualizer(model, k=(1,12)).fit(df_eleven)\n",
        "visualizer.show()"
      ],
      "metadata": {
        "execution": {
          "iopub.status.busy": "2022-01-18T06:48:06.919628Z",
          "iopub.execute_input": "2022-01-18T06:48:06.920255Z",
          "iopub.status.idle": "2022-01-18T06:48:21.551589Z",
          "shell.execute_reply.started": "2022-01-18T06:48:06.920205Z",
          "shell.execute_reply": "2022-01-18T06:48:21.550921Z"
        },
        "trusted": true,
        "id": "yKy0F36W2euD"
      },
      "execution_count": null,
      "outputs": []
    },
    {
      "cell_type": "code",
      "source": [
        "#K-means clustering \n",
        "\n",
        "kmeans = KMeans(n_clusters=4, init='k-means++', random_state=0).fit(df_eleven)\n",
        "df['cluster_num'] = kmeans.labels_ #adding to df\n",
        "print (kmeans.labels_) #Label assigned for each data point\n",
        "print (kmeans.inertia_) #gives within-cluster sum of squares. \n",
        "print(kmeans.n_iter_) #number of iterations that k-means algorithm runs to get a minimum within-cluster sum of squares\n",
        "print(kmeans.cluster_centers_) #Location of the centroids on each cluster. "
      ],
      "metadata": {
        "execution": {
          "iopub.status.busy": "2022-01-18T06:48:21.555254Z",
          "iopub.execute_input": "2022-01-18T06:48:21.558251Z",
          "iopub.status.idle": "2022-01-18T06:48:22.821508Z",
          "shell.execute_reply.started": "2022-01-18T06:48:21.558196Z",
          "shell.execute_reply": "2022-01-18T06:48:22.820832Z"
        },
        "trusted": true,
        "id": "GQiq6nlp2euE"
      },
      "execution_count": null,
      "outputs": []
    },
    {
      "cell_type": "code",
      "source": [
        "#To see each cluster size\n",
        "from collections import Counter\n",
        "Counter(kmeans.labels_)"
      ],
      "metadata": {
        "execution": {
          "iopub.status.busy": "2022-01-18T06:48:22.825415Z",
          "iopub.execute_input": "2022-01-18T06:48:22.827313Z",
          "iopub.status.idle": "2022-01-18T06:48:22.837828Z",
          "shell.execute_reply.started": "2022-01-18T06:48:22.827263Z",
          "shell.execute_reply": "2022-01-18T06:48:22.837114Z"
        },
        "trusted": true,
        "id": "YaLgCurY2euE"
      },
      "execution_count": null,
      "outputs": []
    },
    {
      "cell_type": "code",
      "source": [
        "#Visulazing clusters\n",
        "sns.scatterplot(data=pf, x=\"pc1\", y=\"pc2\", hue=kmeans.labels_)\n",
        "plt.scatter(kmeans.cluster_centers_[:,0], kmeans.cluster_centers_[:,1], \n",
        "            marker=\"X\", c=\"r\", s=80, label=\"centroids\")\n",
        "plt.legend()\n",
        "plt.show()"
      ],
      "metadata": {
        "execution": {
          "iopub.status.busy": "2022-01-18T06:48:22.841949Z",
          "iopub.execute_input": "2022-01-18T06:48:22.844001Z",
          "iopub.status.idle": "2022-01-18T06:48:23.556926Z",
          "shell.execute_reply.started": "2022-01-18T06:48:22.843952Z",
          "shell.execute_reply": "2022-01-18T06:48:23.556186Z"
        },
        "trusted": true,
        "id": "w_UUs_GJ2euE"
      },
      "execution_count": null,
      "outputs": []
    },
    {
      "cell_type": "markdown",
      "source": [
        "**DESCRIBING SEGMENTS**"
      ],
      "metadata": {
        "id": "M6nm7ED32euE"
      }
    },
    {
      "cell_type": "code",
      "source": [
        "#DESCRIBING SEGMENTS\n",
        "\n",
        "from statsmodels.graphics.mosaicplot import mosaic\n",
        "from itertools import product\n",
        "\n",
        "crosstab =pd.crosstab(df['cluster_num'],df['Like'])\n",
        "#Reordering cols\n",
        "crosstab = crosstab[['-5','-4','-3','-2','-1','0','+1','+2','+3','+4','+5']]\n",
        "crosstab "
      ],
      "metadata": {
        "execution": {
          "iopub.status.busy": "2022-01-18T06:48:23.55856Z",
          "iopub.execute_input": "2022-01-18T06:48:23.564253Z",
          "iopub.status.idle": "2022-01-18T06:48:23.61207Z",
          "shell.execute_reply.started": "2022-01-18T06:48:23.564195Z",
          "shell.execute_reply": "2022-01-18T06:48:23.611242Z"
        },
        "trusted": true,
        "id": "FasZrPGN2euE"
      },
      "execution_count": null,
      "outputs": []
    },
    {
      "cell_type": "code",
      "source": [
        "#MOSAIC PLOT\n",
        "plt.rcParams['figure.figsize'] = (7,5)\n",
        "mosaic(crosstab.stack())\n",
        "plt.show()"
      ],
      "metadata": {
        "execution": {
          "iopub.status.busy": "2022-01-18T06:48:23.617263Z",
          "iopub.execute_input": "2022-01-18T06:48:23.619816Z",
          "iopub.status.idle": "2022-01-18T06:48:24.547302Z",
          "shell.execute_reply.started": "2022-01-18T06:48:23.619766Z",
          "shell.execute_reply": "2022-01-18T06:48:24.546509Z"
        },
        "trusted": true,
        "id": "UjrNTxGa2euE"
      },
      "execution_count": null,
      "outputs": []
    },
    {
      "cell_type": "code",
      "source": [
        "#Mosaic plot gender vs segment\n",
        "crosstab_gender =pd.crosstab(df['cluster_num'],df['Gender'])\n",
        "crosstab_gender"
      ],
      "metadata": {
        "execution": {
          "iopub.status.busy": "2022-01-18T06:48:24.548649Z",
          "iopub.execute_input": "2022-01-18T06:48:24.550775Z",
          "iopub.status.idle": "2022-01-18T06:48:24.572521Z",
          "shell.execute_reply.started": "2022-01-18T06:48:24.550735Z",
          "shell.execute_reply": "2022-01-18T06:48:24.571746Z"
        },
        "trusted": true,
        "id": "kXVnBV6V2euF"
      },
      "execution_count": null,
      "outputs": []
    },
    {
      "cell_type": "code",
      "source": [
        "plt.rcParams['figure.figsize'] = (7,5)\n",
        "mosaic(crosstab_gender.stack())\n",
        "plt.show()"
      ],
      "metadata": {
        "execution": {
          "iopub.status.busy": "2022-01-18T06:48:24.573746Z",
          "iopub.execute_input": "2022-01-18T06:48:24.574293Z",
          "iopub.status.idle": "2022-01-18T06:48:24.809644Z",
          "shell.execute_reply.started": "2022-01-18T06:48:24.574244Z",
          "shell.execute_reply": "2022-01-18T06:48:24.808625Z"
        },
        "trusted": true,
        "id": "XAuDA2eR2euF"
      },
      "execution_count": null,
      "outputs": []
    },
    {
      "cell_type": "code",
      "source": [
        "#box plot for age\n",
        "\n",
        "sns.boxplot(x=\"cluster_num\", y=\"Age\", data=df)\n"
      ],
      "metadata": {
        "execution": {
          "iopub.status.busy": "2022-01-18T06:48:24.813502Z",
          "iopub.execute_input": "2022-01-18T06:48:24.814294Z",
          "iopub.status.idle": "2022-01-18T06:48:25.093687Z",
          "shell.execute_reply.started": "2022-01-18T06:48:24.814236Z",
          "shell.execute_reply": "2022-01-18T06:48:25.09311Z"
        },
        "trusted": true,
        "id": "oTNWw0M12euF"
      },
      "execution_count": null,
      "outputs": []
    },
    {
      "cell_type": "markdown",
      "source": [
        "**Selecting target segment**"
      ],
      "metadata": {
        "id": "ww_H87ks2euF"
      }
    },
    {
      "cell_type": "code",
      "source": [
        "#Calculating the mean\n",
        "#Visit frequency\n",
        "df['VisitFrequency'] = LabelEncoder().fit_transform(df['VisitFrequency'])\n",
        "visit = df.groupby('cluster_num')['VisitFrequency'].mean()\n",
        "visit = visit.to_frame().reset_index()\n",
        "visit"
      ],
      "metadata": {
        "execution": {
          "iopub.status.busy": "2022-01-18T06:48:25.094634Z",
          "iopub.execute_input": "2022-01-18T06:48:25.095344Z",
          "iopub.status.idle": "2022-01-18T06:48:25.10959Z",
          "shell.execute_reply.started": "2022-01-18T06:48:25.09531Z",
          "shell.execute_reply": "2022-01-18T06:48:25.108791Z"
        },
        "trusted": true,
        "id": "6-DPDTal2euF"
      },
      "execution_count": null,
      "outputs": []
    },
    {
      "cell_type": "code",
      "source": [
        "#Like\n",
        "df['Like'] = LabelEncoder().fit_transform(df['Like'])\n",
        "Like = df.groupby('cluster_num')['Like'].mean()\n",
        "Like = Like.to_frame().reset_index()\n",
        "Like"
      ],
      "metadata": {
        "execution": {
          "iopub.status.busy": "2022-01-18T06:48:25.111001Z",
          "iopub.execute_input": "2022-01-18T06:48:25.111237Z",
          "iopub.status.idle": "2022-01-18T06:48:25.131331Z",
          "shell.execute_reply.started": "2022-01-18T06:48:25.11121Z",
          "shell.execute_reply": "2022-01-18T06:48:25.130133Z"
        },
        "trusted": true,
        "id": "mV9LnxYP2euF"
      },
      "execution_count": null,
      "outputs": []
    },
    {
      "cell_type": "code",
      "source": [
        "#Gender\n",
        "df['Gender'] = LabelEncoder().fit_transform(df['Gender'])\n",
        "Gender = df.groupby('cluster_num')['Gender'].mean()\n",
        "Gender = Gender.to_frame().reset_index()\n",
        "Gender"
      ],
      "metadata": {
        "execution": {
          "iopub.status.busy": "2022-01-18T06:48:25.13543Z",
          "iopub.execute_input": "2022-01-18T06:48:25.135713Z",
          "iopub.status.idle": "2022-01-18T06:48:25.151487Z",
          "shell.execute_reply.started": "2022-01-18T06:48:25.135672Z",
          "shell.execute_reply": "2022-01-18T06:48:25.150586Z"
        },
        "trusted": true,
        "id": "KSGGS5E-2euF"
      },
      "execution_count": null,
      "outputs": []
    },
    {
      "cell_type": "code",
      "source": [
        "segment = Gender.merge(Like, on='cluster_num', how='left').merge(visit, on='cluster_num', how='left')\n",
        "segment"
      ],
      "metadata": {
        "execution": {
          "iopub.status.busy": "2022-01-18T06:48:25.153489Z",
          "iopub.execute_input": "2022-01-18T06:48:25.153827Z",
          "iopub.status.idle": "2022-01-18T06:48:25.176888Z",
          "shell.execute_reply.started": "2022-01-18T06:48:25.15378Z",
          "shell.execute_reply": "2022-01-18T06:48:25.175969Z"
        },
        "trusted": true,
        "id": "gCCRxFWE2euG"
      },
      "execution_count": null,
      "outputs": []
    },
    {
      "cell_type": "code",
      "source": [
        "#Target segments\n",
        "\n",
        "plt.figure(figsize = (9,4))\n",
        "sns.scatterplot(x = \"VisitFrequency\", y = \"Like\",data=segment,s=400, color=\"r\")\n",
        "plt.title(\"Simple segment evaluation plot for the fast food data set\",\n",
        "          fontsize = 15) \n",
        "plt.xlabel(\"Visit\", fontsize = 12) \n",
        "plt.ylabel(\"Like\", fontsize = 12) \n",
        "plt.show()"
      ],
      "metadata": {
        "execution": {
          "iopub.status.busy": "2022-01-18T06:49:49.798105Z",
          "iopub.execute_input": "2022-01-18T06:49:49.798815Z",
          "iopub.status.idle": "2022-01-18T06:49:50.059845Z",
          "shell.execute_reply.started": "2022-01-18T06:49:49.798771Z",
          "shell.execute_reply": "2022-01-18T06:49:50.059206Z"
        },
        "trusted": true,
        "id": "jpZqBpzx2euG"
      },
      "execution_count": null,
      "outputs": []
    },
    {
      "cell_type": "code",
      "source": [],
      "metadata": {
        "id": "HAZjoeg52euG"
      },
      "execution_count": null,
      "outputs": []
    }
  ]
}